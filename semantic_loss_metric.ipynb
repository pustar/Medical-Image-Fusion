{
 "cells": [
  {
   "cell_type": "code",
   "execution_count": null,
   "metadata": {},
   "outputs": [],
   "source": [
    "from __future__ import print_function\n",
    "import torch\n",
    "import torch.nn as nn\n",
    "import torch.nn.functional as F\n",
    "from torch.utils.data import Dataset, DataLoader\n",
    "from torchvision import transforms, utils\n",
    "import torch.optim as optim\n",
    "from torch.autograd import Variable\n",
    "from pytorchtools import EarlyStopping\n",
    "import skimage.io as io\n",
    "import numpy as np\n",
    "import matplotlib.pyplot as plt\n",
    "from torchvision import models\n",
    "import torchvision\n",
    "import warnings\n",
    "\n",
    "warnings.filterwarnings(\"ignore\")\n",
    "%matplotlib inline"
   ]
  },
  {
   "cell_type": "code",
   "execution_count": null,
   "metadata": {},
   "outputs": [],
   "source": [
    "device = torch.device(\"cuda:0\" if torch.cuda.is_available() else \"cpu\")"
   ]
  },
  {
   "cell_type": "code",
   "execution_count": null,
   "metadata": {},
   "outputs": [],
   "source": [
    "# version = 'NSST_PAPCNN_result'\n",
    "# version = 'my_result_post'\n",
    "# version = 'GF_result'\n",
    "# version = 'cnn_lp_result'\n",
    "# version = 'NSCT-RPCNN_result'\n",
    "version = 'my_result'"
   ]
  },
  {
   "cell_type": "code",
   "execution_count": null,
   "metadata": {},
   "outputs": [],
   "source": [
    "from unet_parts import *\n",
    "\n",
    "class UNet(nn.Module):\n",
    "    def __init__(self, n_channels, n_classes):\n",
    "        super(UNet, self).__init__()\n",
    "        self.inc = inconv(n_channels, 32)\n",
    "        self.down1 = down(32, 64)\n",
    "        self.down2 = down(64, 128)\n",
    "        self.down3 = down(128, 256)\n",
    "        self.down4 = down(256, 256)\n",
    "        self.up1 = up(512, 128)\n",
    "        self.up2 = up(256, 64)\n",
    "        self.up3 = up(128, 32)\n",
    "        self.up4 = up(64, 32)\n",
    "        self.outc = outconv(32, n_classes)\n",
    "\n",
    "    def forward(self, x):\n",
    "        x1 = self.inc(x)\n",
    "        x2 = self.down1(x1)\n",
    "        x3 = self.down2(x2)\n",
    "        x4 = self.down3(x3)\n",
    "        x5 = self.down4(x4)\n",
    "        x = self.up1(x5, x4)\n",
    "        x = self.up2(x, x3)\n",
    "        x = self.up3(x, x2)\n",
    "        x = self.up4(x, x1)\n",
    "        x = self.outc(x)\n",
    "        return F.sigmoid(x)"
   ]
  },
  {
   "cell_type": "code",
   "execution_count": null,
   "metadata": {},
   "outputs": [],
   "source": [
    "class MyDataset(Dataset):\n",
    "    def __init__(self, txt, transform = None, target_transform = None):\n",
    "        lists = open(txt, 'r')\n",
    "        imgs = []\n",
    "        for line in lists:\n",
    "            line = line.strip('\\n')\n",
    "            line = line.rstrip()\n",
    "            words = line.split()\n",
    "            imgs.append((words[0], words[1], words[2]))\n",
    "        self.imgs = imgs\n",
    "        self.transform = transform\n",
    "        self.target_transform = target_transform\n",
    "#         self.loader = loader\n",
    "\n",
    "    def __getitem__(self, index):\n",
    "        fusion_result, ct, mr = self.imgs[index]\n",
    "        img_fr = io.imread(fusion_result)\n",
    "        img_ct = io.imread(ct)\n",
    "        img_mr = io.imread(mr)\n",
    "        if self.transform is not None:\n",
    "            img_fr = self.transform(img_fr)\n",
    "            img_ct = self.transform(img_ct)\n",
    "            img_mr = self.transform(img_mr)\n",
    "        return img_fr, img_ct, img_mr\n",
    "\n",
    "    def __len__(self):\n",
    "        return len(self.imgs)"
   ]
  },
  {
   "cell_type": "code",
   "execution_count": null,
   "metadata": {},
   "outputs": [],
   "source": [
    "train_data = MyDataset(txt = './{}_train_list_whole.txt'.format(version), transform = transforms.ToTensor())\n",
    "trainloader = torch.utils.data.DataLoader(train_data, batch_size = 1,\n",
    "                                          shuffle = True, num_workers = 2)"
   ]
  },
  {
   "cell_type": "code",
   "execution_count": null,
   "metadata": {},
   "outputs": [],
   "source": [
    "test_data = MyDataset(txt = './{}_test_list_whole.txt'.format(version), transform = transforms.ToTensor())\n",
    "testloader = torch.utils.data.DataLoader(test_data, batch_size = 1,\n",
    "                                          shuffle = True, num_workers = 2)"
   ]
  },
  {
   "cell_type": "code",
   "execution_count": null,
   "metadata": {},
   "outputs": [],
   "source": [
    "val_data = MyDataset(txt = './{}_val_list_whole.txt'.format(version), transform = transforms.ToTensor())\n",
    "valloader = torch.utils.data.DataLoader(val_data, batch_size = 1,\n",
    "                                          shuffle = True, num_workers = 2)"
   ]
  },
  {
   "cell_type": "code",
   "execution_count": null,
   "metadata": {},
   "outputs": [],
   "source": [
    "net = UNet(1, 2)\n",
    "net.to(device)\n",
    "criterion = nn.MSELoss()\n",
    "optimizer = optim.SGD(net.parameters(), lr = 0.05, momentum = 0.9)"
   ]
  },
  {
   "cell_type": "code",
   "execution_count": null,
   "metadata": {},
   "outputs": [],
   "source": [
    "train_losses = []\n",
    "valid_losses = []\n",
    "avg_train_losses = []\n",
    "avg_valid_losses = [] \n",
    "early_stopping = EarlyStopping(save_name = 'rebuild_' + version, patience = 8, verbose = True)\n",
    "n_epochs = 200\n",
    "for epoch in range(n_epochs): \n",
    "    net.train()\n",
    "    for i, data in enumerate(trainloader, 0):\n",
    "        # get the inputs\n",
    "#         print(len(data))\n",
    "        inputs, ct, mr = data\n",
    "        inputs, ct, mr = inputs.to(device), ct.to(device), mr.to(device)\n",
    "\n",
    "        optimizer.zero_grad()\n",
    "\n",
    "        outputs = net(inputs)\n",
    "        loss = criterion(outputs[:, 0, :, :], ct) + criterion(outputs[:, 1, :, :], mr)\n",
    "        loss.backward()\n",
    "        optimizer.step()\n",
    "\n",
    "        train_losses.append(loss.item())\n",
    "\n",
    "    net.eval()\n",
    "    for i, data in enumerate(valloader, 0):\n",
    "        inputs, ct, mr = data\n",
    "        inputs, ct, mr = inputs.to(device), ct.to(device), mr.to(device)\n",
    "        outputs = net(inputs)\n",
    "        loss = criterion(outputs[:, 0, :, :], ct) + criterion(outputs[:, 1, :, :], mr)\n",
    "        valid_losses.append(loss.item())\n",
    "    \n",
    "    train_loss = np.average(train_losses)\n",
    "    valid_loss = np.average(valid_losses)\n",
    "    avg_train_losses.append(train_loss)\n",
    "    avg_valid_losses.append(valid_loss)\n",
    "\n",
    "    epoch_len = len(str(n_epochs))\n",
    "\n",
    "    print_msg = (f'[{epoch:>{epoch_len}}/{n_epochs:>{epoch_len}}] ' +\n",
    "                 f'train_loss: {train_loss:.5f} ' +\n",
    "                 f'valid_loss: {valid_loss:.5f}')\n",
    "\n",
    "    print(print_msg)\n",
    "\n",
    "\n",
    "    train_losses = []\n",
    "    valid_losses = []\n",
    "\n",
    "\n",
    "    early_stopping(valid_loss, net)\n",
    "\n",
    "    if early_stopping.early_stop:\n",
    "        print(\"Early stopping\")\n",
    "        break\n",
    "        \n",
    "print('Finished Training')"
   ]
  },
  {
   "cell_type": "code",
   "execution_count": null,
   "metadata": {},
   "outputs": [],
   "source": [
    "net.load_state_dict(torch.load('rebuild_{}_checkpoint.pt'.format(version)))"
   ]
  },
  {
   "cell_type": "code",
   "execution_count": null,
   "metadata": {},
   "outputs": [],
   "source": [
    "test_losses = []\n",
    "net.eval()\n",
    "for i, data in enumerate(testloader, 0):\n",
    "    inputs, ct, mr = data\n",
    "    inputs, ct, mr = inputs.to(device), ct.to(device), mr.to(device)\n",
    "    outputs = net(inputs)\n",
    "    loss = criterion(outputs[:, 0, :, :], ct) + criterion(outputs[:, 1, :, :], mr)\n",
    "    test_losses.append(loss.item())\n",
    "\n",
    "\n",
    "test_loss = np.average(test_losses)\n",
    "\n",
    "print(np.average(test_losses), np.std(test_losses))"
   ]
  },
  {
   "cell_type": "code",
   "execution_count": null,
   "metadata": {},
   "outputs": [],
   "source": []
  },
  {
   "cell_type": "code",
   "execution_count": null,
   "metadata": {},
   "outputs": [],
   "source": []
  }
 ],
 "metadata": {
  "kernelspec": {
   "display_name": "Python 3",
   "language": "python",
   "name": "python3"
  },
  "language_info": {
   "codemirror_mode": {
    "name": "ipython",
    "version": 3
   },
   "file_extension": ".py",
   "mimetype": "text/x-python",
   "name": "python",
   "nbconvert_exporter": "python",
   "pygments_lexer": "ipython3",
   "version": "3.6.7"
  }
 },
 "nbformat": 4,
 "nbformat_minor": 2
}
